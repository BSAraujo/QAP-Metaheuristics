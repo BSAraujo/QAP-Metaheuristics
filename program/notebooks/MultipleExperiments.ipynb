{
 "cells": [
  {
   "cell_type": "code",
   "execution_count": 44,
   "metadata": {},
   "outputs": [],
   "source": [
    "using DataFrames\n",
    "using Dates"
   ]
  },
  {
   "cell_type": "code",
   "execution_count": 2,
   "metadata": {},
   "outputs": [
    {
     "data": {
      "text/plain": [
       "entropy (generic function with 3 methods)"
      ]
     },
     "execution_count": 2,
     "metadata": {},
     "output_type": "execute_result"
    }
   ],
   "source": [
    "include(\"../Params.jl\")\n",
    "include(\"../Solution.jl\")\n",
    "include(\"../LocalSearch.jl\")\n",
    "include(\"../GeneticAlgorithm.jl\")"
   ]
  },
  {
   "cell_type": "code",
   "execution_count": 3,
   "metadata": {},
   "outputs": [],
   "source": [
    "allinstances = readdir(\"../../instances/\");"
   ]
  },
  {
   "cell_type": "code",
   "execution_count": 4,
   "metadata": {},
   "outputs": [],
   "source": [
    "allsolutions = readdir(\"../../solutions/\");"
   ]
  },
  {
   "cell_type": "code",
   "execution_count": 5,
   "metadata": {},
   "outputs": [
    {
     "data": {
      "text/plain": [
       "136"
      ]
     },
     "execution_count": 5,
     "metadata": {},
     "output_type": "execute_result"
    }
   ],
   "source": [
    "length(allinstances)"
   ]
  },
  {
   "cell_type": "code",
   "execution_count": 6,
   "metadata": {},
   "outputs": [
    {
     "data": {
      "text/plain": [
       "129"
      ]
     },
     "execution_count": 6,
     "metadata": {},
     "output_type": "execute_result"
    }
   ],
   "source": [
    "length(allsolutions)"
   ]
  },
  {
   "cell_type": "code",
   "execution_count": 10,
   "metadata": {},
   "outputs": [
    {
     "data": {
      "text/html": [
       "<table class=\"data-frame\"><thead><tr><th></th><th>instance</th><th>finalCost</th><th>populationSize</th><th>maxGenerations</th><th>executionTime</th><th>numIndividuals</th></tr><tr><th></th><th>String</th><th>Int64</th><th>Int64</th><th>Int64</th><th>Float64</th><th>Int64</th></tr></thead><tbody><p>0 rows × 9 columns (omitted printing of 3 columns)</p></tbody></table>"
      ],
      "text/latex": [
       "\\begin{tabular}{r|ccccccc}\n",
       "\t& instance & finalCost & populationSize & maxGenerations & executionTime & numIndividuals & \\\\\n",
       "\t\\hline\n",
       "\t& String & Int64 & Int64 & Int64 & Float64 & Int64 & \\\\\n",
       "\t\\hline\n",
       "\\end{tabular}\n"
      ],
      "text/plain": [
       "0×9 DataFrame\n"
      ]
     },
     "execution_count": 10,
     "metadata": {},
     "output_type": "execute_result"
    }
   ],
   "source": [
    "df = DataFrame(\n",
    "    instance = String[], \n",
    "    finalCost = Int64[],\n",
    "    populationSize = Int64[],\n",
    "    maxGenerations = Int64[],\n",
    "    executionTime = Float64[],\n",
    "    numIndividuals = Int64[],\n",
    "    finalEntropy = Float64[],\n",
    "    numGenerations = Int64[],\n",
    "    bestKnownCost = Int64[]\n",
    ")"
   ]
  },
  {
   "cell_type": "code",
   "execution_count": 45,
   "metadata": {
    "scrolled": true
   },
   "outputs": [
    {
     "name": "stdout",
     "output_type": "stream",
     "text": [
      "bur26a.dat\n",
      "GA solution:\n",
      "Permutation=[11, 2, 16, 8, 6, 12, 14, 26, 18, 20, 19, 9, 21, 13, 15, 7, 3, 1, 5, 17, 10, 22, 25, 24, 4, 23]\n",
      "Cost=5430323\n",
      "\n",
      "bur26b.dat\n",
      "GA solution:\n",
      "Permutation=[4, 24, 18, 14, 13, 15, 10, 2, 17, 6, 5, 20, 1, 3, 12, 8, 21, 9, 19, 25, 11, 26, 23, 7, 16, 22]\n",
      "Cost=3800724\n",
      "\n",
      "bur26c.dat\n",
      "GA solution:\n",
      "Permutation=[12, 25, 23, 22, 14, 18, 24, 6, 2, 10, 3, 9, 5, 15, 7, 26, 8, 4, 1, 16, 17, 20, 13, 11, 21, 19]\n",
      "Cost=140338393408\n",
      "\n",
      "bur26d.dat\n",
      "GA solution:\n",
      "Permutation=[19, 2, 22, 8, 10, 4, 20, 7, 21, 25, 9, 1, 15, 3, 16, 26, 6, 12, 5, 18, 17, 11, 23, 24, 13, 14]\n",
      "Cost=2880618\n",
      "\n",
      "bur26e.dat\n",
      "GA solution:\n",
      "Permutation=[17, 16, 2, 22, 6, 7, 14, 18, 3, 13, 19, 5, 15, 21, 10, 20, 12, 1, 9, 8, 11, 26, 25, 23, 4, 24]\n",
      "Cost=5466079\n",
      "\n",
      "bur26f.dat\n",
      "GA solution:\n",
      "Permutation=[8, 23, 26, 25, 17, 4, 14, 18, 3, 13, 19, 21, 5, 15, 16, 20, 12, 1, 9, 11, 10, 2, 22, 6, 7, 24]\n",
      "Cost=3817411\n",
      "\n",
      "bur26g.dat\n",
      "GA solution:\n",
      "Permutation=[4, 21, 11, 18, 3, 8, 22, 17, 2, 16, 1, 12, 9, 20, 23, 6, 15, 19, 5, 26, 24, 7, 13, 14, 25, 10]\n",
      "Cost=10080356\n",
      "\n",
      "bur26h.dat\n",
      "GA solution:\n",
      "Permutation=[3, 7, 26, 12, 21, 25, 8, 17, 23, 16, 9, 1, 5, 18, 13, 6, 15, 19, 20, 11, 4, 22, 24, 14, 10, 2]\n",
      "Cost=7051591\n",
      "\n",
      "chr12a.dat\n",
      "GA solution:\n",
      "Permutation=[6, 7, 10, 12, 5, 11, 9, 2, 4, 1, 3, 8]\n",
      "Cost=6816\n",
      "\n",
      "chr12b.dat\n",
      "GA solution:\n",
      "Permutation=[1, 2, 4, 9, 11, 8, 5, 3, 12, 7, 6, 10]\n",
      "Cost=7961\n",
      "\n"
     ]
    }
   ],
   "source": [
    "timenow = Dates.now()\n",
    "start_datetime = Dates.format(timenow, \"yyyy-mm-dd_HHMMSS\")\n",
    "\n",
    "cpu_time = 60\n",
    "seed = 0\n",
    "for instance_name in allinstances[1:10]\n",
    "    println(instance_name)\n",
    "    instance_path = \"../../instances/$instance_name\"\n",
    "    output_path = \"../../outputs/sol-$instance_name\"\n",
    "    params = Params(instance_path, output_path, seed, cpu_time)\n",
    "    \n",
    "    #Random.seed!(0)\n",
    "    solGA, results = runGA(params, 5, 50)\n",
    "    println(\"GA solution:\")\n",
    "    printSolution(solGA)\n",
    "    println()\n",
    "    \n",
    "    new_tuple = (instance_name, \n",
    "        results[\"cost\"][end], \n",
    "        results[\"populationSize\"], \n",
    "        results[\"maxGenerations\"],\n",
    "        results[\"time\"],\n",
    "        results[\"numIndividuals\"][end],\n",
    "        results[\"entropy\"][end],\n",
    "        results[\"generations\"],\n",
    "        params.solutionCost)\n",
    "    push!(df, new_tuple)\n",
    "    \n",
    "    \n",
    "    open(\"../../experiments/$start_datetime.csv\",\"a+\") do csvfile\n",
    "       write(csvfile,join(new_tuple,\",\"),\"\\n\") \n",
    "    end\n",
    "end"
   ]
  },
  {
   "cell_type": "code",
   "execution_count": 23,
   "metadata": {},
   "outputs": [
    {
     "data": {
      "text/html": [
       "<table class=\"data-frame\"><thead><tr><th></th><th>instance</th><th>finalCost</th><th>populationSize</th><th>maxGenerations</th><th>executionTime</th><th>numIndividuals</th></tr><tr><th></th><th>String</th><th>Int64</th><th>Int64</th><th>Int64</th><th>Float64</th><th>Int64</th></tr></thead><tbody><p>10 rows × 9 columns (omitted printing of 3 columns)</p><tr><th>1</th><td>bur26a.dat</td><td>5430291</td><td>50</td><td>5</td><td>4.461</td><td>50</td></tr><tr><th>2</th><td>bur26b.dat</td><td>3801023</td><td>50</td><td>5</td><td>3.524</td><td>50</td></tr><tr><th>3</th><td>bur26c.dat</td><td>2945784</td><td>50</td><td>5</td><td>3.913</td><td>50</td></tr><tr><th>4</th><td>bur26d.dat</td><td>2045307</td><td>50</td><td>5</td><td>3.25</td><td>50</td></tr><tr><th>5</th><td>bur26e.dat</td><td>5466607</td><td>50</td><td>5</td><td>3.347</td><td>50</td></tr><tr><th>6</th><td>bur26f.dat</td><td>3817411</td><td>50</td><td>5</td><td>3.108</td><td>50</td></tr><tr><th>7</th><td>bur26g.dat</td><td>10078762</td><td>50</td><td>5</td><td>4.119</td><td>50</td></tr><tr><th>8</th><td>bur26h.dat</td><td>7051591</td><td>50</td><td>5</td><td>4.231</td><td>50</td></tr><tr><th>9</th><td>chr12a.dat</td><td>6816</td><td>50</td><td>5</td><td>0.177</td><td>50</td></tr><tr><th>10</th><td>chr12b.dat</td><td>7961</td><td>50</td><td>5</td><td>0.198</td><td>50</td></tr></tbody></table>"
      ],
      "text/latex": [
       "\\begin{tabular}{r|ccccccc}\n",
       "\t& instance & finalCost & populationSize & maxGenerations & executionTime & numIndividuals & \\\\\n",
       "\t\\hline\n",
       "\t& String & Int64 & Int64 & Int64 & Float64 & Int64 & \\\\\n",
       "\t\\hline\n",
       "\t1 & bur26a.dat & 5430291 & 50 & 5 & 4.461 & 50 & $\\dots$ \\\\\n",
       "\t2 & bur26b.dat & 3801023 & 50 & 5 & 3.524 & 50 & $\\dots$ \\\\\n",
       "\t3 & bur26c.dat & 2945784 & 50 & 5 & 3.913 & 50 & $\\dots$ \\\\\n",
       "\t4 & bur26d.dat & 2045307 & 50 & 5 & 3.25 & 50 & $\\dots$ \\\\\n",
       "\t5 & bur26e.dat & 5466607 & 50 & 5 & 3.347 & 50 & $\\dots$ \\\\\n",
       "\t6 & bur26f.dat & 3817411 & 50 & 5 & 3.108 & 50 & $\\dots$ \\\\\n",
       "\t7 & bur26g.dat & 10078762 & 50 & 5 & 4.119 & 50 & $\\dots$ \\\\\n",
       "\t8 & bur26h.dat & 7051591 & 50 & 5 & 4.231 & 50 & $\\dots$ \\\\\n",
       "\t9 & chr12a.dat & 6816 & 50 & 5 & 0.177 & 50 & $\\dots$ \\\\\n",
       "\t10 & chr12b.dat & 7961 & 50 & 5 & 0.198 & 50 & $\\dots$ \\\\\n",
       "\\end{tabular}\n"
      ],
      "text/plain": [
       "10×9 DataFrame. Omitted printing of 5 columns\n",
       "│ Row │ instance   │ finalCost │ populationSize │ maxGenerations │\n",
       "│     │ \u001b[90mString\u001b[39m     │ \u001b[90mInt64\u001b[39m     │ \u001b[90mInt64\u001b[39m          │ \u001b[90mInt64\u001b[39m          │\n",
       "├─────┼────────────┼───────────┼────────────────┼────────────────┤\n",
       "│ 1   │ bur26a.dat │ 5430291   │ 50             │ 5              │\n",
       "│ 2   │ bur26b.dat │ 3801023   │ 50             │ 5              │\n",
       "│ 3   │ bur26c.dat │ 2945784   │ 50             │ 5              │\n",
       "│ 4   │ bur26d.dat │ 2045307   │ 50             │ 5              │\n",
       "│ 5   │ bur26e.dat │ 5466607   │ 50             │ 5              │\n",
       "│ 6   │ bur26f.dat │ 3817411   │ 50             │ 5              │\n",
       "│ 7   │ bur26g.dat │ 10078762  │ 50             │ 5              │\n",
       "│ 8   │ bur26h.dat │ 7051591   │ 50             │ 5              │\n",
       "│ 9   │ chr12a.dat │ 6816      │ 50             │ 5              │\n",
       "│ 10  │ chr12b.dat │ 7961      │ 50             │ 5              │"
      ]
     },
     "execution_count": 23,
     "metadata": {},
     "output_type": "execute_result"
    }
   ],
   "source": [
    "df"
   ]
  },
  {
   "cell_type": "code",
   "execution_count": 22,
   "metadata": {},
   "outputs": [
    {
     "data": {
      "text/html": [
       "<table class=\"data-frame\"><thead><tr><th></th><th>instance</th><th>finalCost</th><th>bestKnownCost</th></tr><tr><th></th><th>String</th><th>Int64</th><th>Int64</th></tr></thead><tbody><p>10 rows × 3 columns</p><tr><th>1</th><td>bur26a.dat</td><td>5430291</td><td>5426670</td></tr><tr><th>2</th><td>bur26b.dat</td><td>3801023</td><td>3817852</td></tr><tr><th>3</th><td>bur26c.dat</td><td>2945784</td><td>5426795</td></tr><tr><th>4</th><td>bur26d.dat</td><td>2045307</td><td>3821225</td></tr><tr><th>5</th><td>bur26e.dat</td><td>5466607</td><td>5386879</td></tr><tr><th>6</th><td>bur26f.dat</td><td>3817411</td><td>3782044</td></tr><tr><th>7</th><td>bur26g.dat</td><td>10078762</td><td>10117172</td></tr><tr><th>8</th><td>bur26h.dat</td><td>7051591</td><td>7098658</td></tr><tr><th>9</th><td>chr12a.dat</td><td>6816</td><td>9552</td></tr><tr><th>10</th><td>chr12b.dat</td><td>7961</td><td>9742</td></tr></tbody></table>"
      ],
      "text/latex": [
       "\\begin{tabular}{r|ccc}\n",
       "\t& instance & finalCost & bestKnownCost\\\\\n",
       "\t\\hline\n",
       "\t& String & Int64 & Int64\\\\\n",
       "\t\\hline\n",
       "\t1 & bur26a.dat & 5430291 & 5426670 \\\\\n",
       "\t2 & bur26b.dat & 3801023 & 3817852 \\\\\n",
       "\t3 & bur26c.dat & 2945784 & 5426795 \\\\\n",
       "\t4 & bur26d.dat & 2045307 & 3821225 \\\\\n",
       "\t5 & bur26e.dat & 5466607 & 5386879 \\\\\n",
       "\t6 & bur26f.dat & 3817411 & 3782044 \\\\\n",
       "\t7 & bur26g.dat & 10078762 & 10117172 \\\\\n",
       "\t8 & bur26h.dat & 7051591 & 7098658 \\\\\n",
       "\t9 & chr12a.dat & 6816 & 9552 \\\\\n",
       "\t10 & chr12b.dat & 7961 & 9742 \\\\\n",
       "\\end{tabular}\n"
      ],
      "text/plain": [
       "10×3 DataFrame\n",
       "│ Row │ instance   │ finalCost │ bestKnownCost │\n",
       "│     │ \u001b[90mString\u001b[39m     │ \u001b[90mInt64\u001b[39m     │ \u001b[90mInt64\u001b[39m         │\n",
       "├─────┼────────────┼───────────┼───────────────┤\n",
       "│ 1   │ bur26a.dat │ 5430291   │ 5426670       │\n",
       "│ 2   │ bur26b.dat │ 3801023   │ 3817852       │\n",
       "│ 3   │ bur26c.dat │ 2945784   │ 5426795       │\n",
       "│ 4   │ bur26d.dat │ 2045307   │ 3821225       │\n",
       "│ 5   │ bur26e.dat │ 5466607   │ 5386879       │\n",
       "│ 6   │ bur26f.dat │ 3817411   │ 3782044       │\n",
       "│ 7   │ bur26g.dat │ 10078762  │ 10117172      │\n",
       "│ 8   │ bur26h.dat │ 7051591   │ 7098658       │\n",
       "│ 9   │ chr12a.dat │ 6816      │ 9552          │\n",
       "│ 10  │ chr12b.dat │ 7961      │ 9742          │"
      ]
     },
     "execution_count": 22,
     "metadata": {},
     "output_type": "execute_result"
    }
   ],
   "source": [
    "df[:,[1,2,9]]"
   ]
  },
  {
   "cell_type": "code",
   "execution_count": null,
   "metadata": {},
   "outputs": [],
   "source": []
  },
  {
   "cell_type": "code",
   "execution_count": null,
   "metadata": {},
   "outputs": [],
   "source": []
  }
 ],
 "metadata": {
  "kernelspec": {
   "display_name": "Julia 1.1.0",
   "language": "julia",
   "name": "julia-1.1"
  },
  "language_info": {
   "file_extension": ".jl",
   "mimetype": "application/julia",
   "name": "julia",
   "version": "1.1.0"
  }
 },
 "nbformat": 4,
 "nbformat_minor": 2
}
