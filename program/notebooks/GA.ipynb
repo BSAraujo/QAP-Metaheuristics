{
 "cells": [
  {
   "cell_type": "code",
   "execution_count": 1,
   "metadata": {},
   "outputs": [
    {
     "data": {
      "text/plain": [
       "selectionOp (generic function with 1 method)"
      ]
     },
     "execution_count": 1,
     "metadata": {},
     "output_type": "execute_result"
    }
   ],
   "source": [
    "include(\"../Commandline.jl\")\n",
    "include(\"../Params.jl\")\n",
    "include(\"../Solution.jl\")\n",
    "include(\"../LocalSearch.jl\")\n",
    "include(\"../GeneticAlgorithm.jl\")"
   ]
  },
  {
   "cell_type": "code",
   "execution_count": 2,
   "metadata": {},
   "outputs": [
    {
     "data": {
      "text/plain": [
       "Commandline(true, 300, 0, \"../../instances/chr12a.dat\", \"../../outputs/sol-chr12a.dat\")"
      ]
     },
     "execution_count": 2,
     "metadata": {},
     "output_type": "execute_result"
    }
   ],
   "source": [
    "instance_name = \"chr12a.dat\"\n",
    "# Simulate commandline arguments\n",
    "args = Dict(\n",
    "    \"cpu_time\" => 300, \"seed\" => 0, \n",
    "    \"instance_path\" => \"../../instances/$instance_name\", \n",
    "    \"sol\" => \"../../outputs/sol-$instance_name\"\n",
    ")\n",
    "c = Commandline(true, args[\"cpu_time\"], args[\"seed\"], args[\"instance_path\"], args[\"sol\"])"
   ]
  },
  {
   "cell_type": "code",
   "execution_count": 5,
   "metadata": {
    "scrolled": true
   },
   "outputs": [
    {
     "name": "stdout",
     "output_type": "stream",
     "text": [
      "----- STARTING METAHEURISTIC OPTIMIZATION\n",
      "Permutation=[1, 2, 3, 4, 5, 6, 7, 8, 9, 10, 11, 12]\n",
      "Cost=40172\n",
      "\n",
      "Random solution:\n",
      "Permutation=[7, 4, 6, 8, 2, 11, 5, 12, 9, 1, 3, 10]\n",
      "Cost=56560\n",
      "\n",
      "Initial Solution:\n",
      "Permutation=[1, 2, 3, 4, 5, 6, 7, 8, 9, 10, 11, 12]\n",
      "Cost=40172\n",
      "\n",
      "Best solution after local search (descent heuristic):\n",
      "Permutation=[3, 4, 1, 9, 5, 6, 2, 7, 11, 10, 12, 8]\n",
      "Cost=17210\n",
      "\n",
      "Multistart Local Search solution:\n",
      "Permutation=[7, 5, 4, 10, 1, 3, 8, 6, 9, 11, 2, 12]\n",
      "Cost=10824\n",
      "\n",
      "GA solution:\n",
      "Permutation=[7, 5, 4, 10, 1, 3, 8, 6, 9, 11, 2, 12]\n",
      "Cost=10824\n",
      "\n",
      "----- METAHEURISTIC OPTIMIZATION COMPLETED IN \n",
      "----- END OF ALGORITHM\n"
     ]
    }
   ],
   "source": [
    "params = Params(c.instance_path, c.output_path, c.seed, c.cpu_time)\n",
    "\n",
    "println(\"----- STARTING METAHEURISTIC OPTIMIZATION\")\n",
    "\n",
    "# TODO: Run algorithm\n",
    "#p = [4  13  14   7  16  26  25  17   1  15  20  18  12  19   3  8  21   9   5   6  10  24   2  22  11  23]\n",
    "p = [i for i = 1:params.datasetSize]\n",
    "sol = Solution(params, p)\n",
    "printSolution(sol)\n",
    "println()\n",
    "#------------------------------------------------\n",
    "\n",
    "println(\"Random solution:\")\n",
    "Rsol = Solution(params)\n",
    "printSolution(Rsol)\n",
    "println()\n",
    "#------------------------------------------------\n",
    "\n",
    "# Local Search\n",
    "println(\"Initial Solution:\")\n",
    "printSolution(sol)\n",
    "println()\n",
    "#------------------------------------------------\n",
    "\n",
    "bestSol = descentHeuristic(sol)\n",
    "\n",
    "println(\"Best solution after local search (descent heuristic):\")\n",
    "printSolution(bestSol)\n",
    "println()\n",
    "#------------------------------------------------\n",
    "\n",
    "bestSol = multistartLS(params, 100)\n",
    "println(\"Multistart Local Search solution:\")\n",
    "printSolution(bestSol)\n",
    "println()\n",
    "#------------------------------------------------\n",
    "\n",
    "bestSol = runGA(params, 100, 1000)\n",
    "println(\"GA solution:\")\n",
    "printSolution(bestSol)\n",
    "println()\n",
    "\n",
    "#cost = sum(A[i,j]*B[p[i],p[j]] for i = 1:n, j = 1:n)\n",
    "#println(\"Cost=$cost\")\n",
    "\n",
    "println(\"----- METAHEURISTIC OPTIMIZATION COMPLETED IN \")\n",
    "\n",
    "# TODO: Print final solution and export results\n",
    "# Printing the solution and exporting statistics (also export results into a file)\n",
    "\n",
    "println(\"----- END OF ALGORITHM\")"
   ]
  },
  {
   "cell_type": "code",
   "execution_count": 13,
   "metadata": {
    "scrolled": true
   },
   "outputs": [
    {
     "data": {
      "text/plain": [
       "Solution(Params(\"../../instances/tai10a.dat\", \"../../outputs/sol-tai10a.dat\", 0, 300, \"tai10a.dat\", 10, [0 71 … 8 77; 71 0 … 93 56; … ; 8 93 … 0 29; 77 56 … 29 0], [0 21 … 10 4; 21 0 … 0 89; … ; 10 0 … 0 21; 4 89 … 21 0]), [7, 4, 5, 6, 2, 10, 9, 1, 3, 8], 139524)"
      ]
     },
     "execution_count": 13,
     "metadata": {},
     "output_type": "execute_result"
    }
   ],
   "source": [
    "populationSize = 10\n",
    "\n",
    "# Initialize population with random candidate solutions\n",
    "population = initializePopulation(populationSize);\n",
    "\n",
    "# Select parents\n",
    "population = shuffle!(population)\n",
    "parents = [(population[i], population[i+Int(length(population)/2)]) for i = 1:Int(length(population)/2)];\n",
    "\n",
    "offspring = recombinationOp(parents);\n",
    "\n",
    "# Mutate the resulting offspring\n",
    "for k = 1:length(offspring)\n",
    "    offspring[k] = descentHeuristic(offspring[k])\n",
    "end\n",
    "\n",
    "# Evaluate new candidates\n",
    "# TODO\n",
    "\n",
    "# Select individuals for the next generation\n",
    "population = vcat(population,offspring)\n",
    "population = selectionOp(population)\n",
    "\n",
    "bestSol = sort(population)[1]\n"
   ]
  },
  {
   "cell_type": "code",
   "execution_count": 5,
   "metadata": {
    "scrolled": false
   },
   "outputs": [
    {
     "name": "stdout",
     "output_type": "stream",
     "text": [
      "Parent 1: [1, 7, 4, 6, 9, 8, 2, 10, 3, 5]\n",
      "Parent 2: [5, 10, 6, 9, 3, 7, 4, 1, 8, 2]\n",
      "\n",
      "Parent 1: [6, 4, 1, 2, 5, 3, 7, 8, 10, 9]\n",
      "Parent 2: [2, 6, 7, 3, 4, 5, 10, 9, 1, 8]\n",
      "\n",
      "Parent 1: [2, 10, 8, 9, 6, 7, 3, 4, 5, 1]\n",
      "Parent 2: [8, 7, 4, 5, 2, 3, 6, 10, 9, 1]\n",
      "\n",
      "Parent 1: [2, 1, 3, 4, 5, 7, 9, 10, 6, 8]\n",
      "Parent 2: [3, 6, 4, 8, 7, 9, 1, 10, 2, 5]\n",
      "\n",
      "Parent 1: [7, 3, 9, 1, 5, 8, 2, 4, 6, 10]\n",
      "Parent 2: [7, 3, 6, 9, 5, 4, 2, 10, 8, 1]\n",
      "\n"
     ]
    }
   ],
   "source": [
    "for (p1,p2) in parents\n",
    "    println(\"Parent 1: \",p1.permutation)\n",
    "    println(\"Parent 2: \",p2.permutation)\n",
    "    println()\n",
    "end"
   ]
  },
  {
   "cell_type": "code",
   "execution_count": 7,
   "metadata": {},
   "outputs": [
    {
     "name": "stdout",
     "output_type": "stream",
     "text": [
      "Child : [6, 9, 7, 4, 1, 8, 2, 10, 3, 5]\n",
      "Child : [6, 9, 10, 3, 5, 7, 4, 1, 8, 2]\n",
      "Child : [4, 10, 9, 2, 5, 3, 7, 8, 1, 6]\n",
      "Child : [2, 7, 8, 3, 4, 5, 10, 9, 6, 1]\n",
      "Child : [5, 2, 8, 9, 6, 7, 3, 10, 1, 4]\n",
      "Child : [9, 7, 4, 5, 2, 3, 6, 1, 10, 8]\n",
      "Child : [3, 4, 1, 2, 5, 7, 9, 10, 6, 8]\n",
      "Child : [3, 4, 7, 6, 8, 9, 1, 10, 2, 5]\n",
      "Child : [7, 3, 9, 10, 5, 8, 2, 4, 6, 1]\n",
      "Child : [3, 9, 1, 6, 5, 4, 2, 10, 8, 7]\n"
     ]
    }
   ],
   "source": [
    "for c in offspring\n",
    "    println(\"Child : \",c.permutation)\n",
    "end"
   ]
  },
  {
   "cell_type": "code",
   "execution_count": 6,
   "metadata": {},
   "outputs": [
    {
     "name": "stdout",
     "output_type": "stream",
     "text": [
      "Parent 1: [5, 9, 3, 4, 7, 1, 10, 2, 8, 6]\n",
      "Parent 2: [2, 3, 6, 10, 9, 8, 1, 4, 7, 5]\n"
     ]
    }
   ],
   "source": [
    "println(\"Parent 1: \",parents[1][1].permutation)\n",
    "println(\"Parent 2: \",parents[1][2].permutation)"
   ]
  },
  {
   "cell_type": "code",
   "execution_count": 58,
   "metadata": {
    "scrolled": true
   },
   "outputs": [
    {
     "name": "stdout",
     "output_type": "stream",
     "text": [
      "Parent 1: [5, 9, 3, 4, 7, 1, 10, 2, 8, 6]\n",
      "Parent 2: [2, 3, 6, 10, 9, 8, 1, 4, 7, 5]\n",
      "s=6\n",
      "Child 1:  [3, 9, 4, 7, 5, 1, 10, 2, 8, 6]\n",
      "Child 2:  [9, 3, 10, 2, 6, 8, 1, 4, 7, 5]\n"
     ]
    }
   ],
   "source": [
    "p1 = parents[1][1]\n",
    "p2 = parents[1][2]\n",
    "n = p1.params.datasetSize\n",
    "\n",
    "println(\"Parent 1: \",p1.permutation)\n",
    "println(\"Parent 2: \",p2.permutation)\n",
    "\n",
    "(c1,c2) = order1cx(p1,p2)\n",
    "\n",
    "println(\"Child 1:  \",c1.permutation)\n",
    "println(\"Child 2:  \",c2.permutation)"
   ]
  },
  {
   "cell_type": "code",
   "execution_count": null,
   "metadata": {},
   "outputs": [],
   "source": []
  },
  {
   "cell_type": "code",
   "execution_count": null,
   "metadata": {},
   "outputs": [],
   "source": []
  }
 ],
 "metadata": {
  "kernelspec": {
   "display_name": "Julia 1.1.0",
   "language": "julia",
   "name": "julia-1.1"
  },
  "language_info": {
   "file_extension": ".jl",
   "mimetype": "application/julia",
   "name": "julia",
   "version": "1.1.0"
  }
 },
 "nbformat": 4,
 "nbformat_minor": 2
}
