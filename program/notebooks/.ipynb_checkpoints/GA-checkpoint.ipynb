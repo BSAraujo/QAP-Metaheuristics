{
 "cells": [
  {
   "cell_type": "code",
   "execution_count": 1,
   "metadata": {},
   "outputs": [
    {
     "data": {
      "text/plain": [
       "multistartLS (generic function with 1 method)"
      ]
     },
     "execution_count": 1,
     "metadata": {},
     "output_type": "execute_result"
    }
   ],
   "source": [
    "include(\"../Commandline.jl\")\n",
    "include(\"../Params.jl\")\n",
    "include(\"../Solution.jl\")\n",
    "include(\"../LocalSearch.jl\")"
   ]
  },
  {
   "cell_type": "code",
   "execution_count": 2,
   "metadata": {},
   "outputs": [
    {
     "data": {
      "text/plain": [
       "Commandline(true, 300, 0, \"../../instances/bur26a.dat\", \"../../outputs/sol-bur26a.dat\")"
      ]
     },
     "execution_count": 2,
     "metadata": {},
     "output_type": "execute_result"
    }
   ],
   "source": [
    "instance_name = \"bur26a.dat\"\n",
    "# Simulate commandline arguments\n",
    "args = Dict(\n",
    "    \"cpu_time\" => 300, \"seed\" => 0, \n",
    "    \"instance_path\" => \"../../instances/$instance_name\", \n",
    "    \"sol\" => \"../../outputs/sol-$instance_name\"\n",
    ")\n",
    "c = Commandline(true, args[\"cpu_time\"], args[\"seed\"], args[\"instance_path\"], args[\"sol\"])"
   ]
  },
  {
   "cell_type": "code",
   "execution_count": 3,
   "metadata": {},
   "outputs": [
    {
     "name": "stdout",
     "output_type": "stream",
     "text": [
      "----- STARTING METAHEURISTIC OPTIMIZATION\n",
      "Permutation=[1, 2, 3, 4, 5, 6, 7, 8, 9, 10, 11, 12, 13, 14, 15, 16, 17, 18, 19, 20, 21, 22, 23, 24, 25, 26]\n",
      "Cost=5801101\n",
      "\n",
      "Random solution:\n",
      "Permutation=[19, 6, 8, 22, 7, 25, 1, 10, 12, 23, 13, 24, 11, 3, 4, 5, 17, 20, 18, 9, 15, 14, 26, 16, 21, 2]\n",
      "Cost=5897534\n",
      "\n",
      "Initial Solution:\n",
      "Permutation=[1, 2, 3, 4, 5, 6, 7, 8, 9, 10, 11, 12, 13, 14, 15, 16, 17, 18, 19, 20, 21, 22, 23, 24, 25, 26]\n",
      "Cost=5801101\n",
      "\n",
      "Best solution after local search (descent heuristic):\n",
      "Permutation=[23, 11, 26, 13, 2, 25, 15, 1, 4, 8, 20, 7, 12, 18, 14, 21, 9, 5, 19, 16, 6, 10, 22, 3, 24, 17]\n",
      "Cost=5435743\n",
      "\n",
      "Multistart Local Search solution:\n",
      "Permutation=[26, 15, 11, 7, 4, 12, 13, 6, 2, 18, 1, 5, 9, 21, 8, 14, 3, 19, 20, 25, 17, 10, 24, 16, 22, 23]\n",
      "Cost=5426670\n",
      "\n",
      "----- METAHEURISTIC OPTIMIZATION COMPLETED IN \n",
      "----- END OF ALGORITHM\n"
     ]
    }
   ],
   "source": [
    "params = Params(c.instance_path, c.output_path, c.seed, c.cpu_time)\n",
    "\n",
    "println(\"----- STARTING METAHEURISTIC OPTIMIZATION\")\n",
    "\n",
    "# TODO: Run algorithm\n",
    "#p = [4  13  14   7  16  26  25  17   1  15  20  18  12  19   3  8  21   9   5   6  10  24   2  22  11  23]\n",
    "p = [i for i = 1:params.datasetSize]\n",
    "sol = Solution(params, p)\n",
    "printSolution(sol)\n",
    "println()\n",
    "#------------------------------------------------\n",
    "\n",
    "println(\"Random solution:\")\n",
    "Rsol = Solution(params)\n",
    "printSolution(Rsol)\n",
    "println()\n",
    "#------------------------------------------------\n",
    "\n",
    "# Local Search\n",
    "println(\"Initial Solution:\")\n",
    "printSolution(sol)\n",
    "println()\n",
    "#------------------------------------------------\n",
    "\n",
    "bestSol = descentHeuristic(sol)\n",
    "\n",
    "println(\"Best solution after local search (descent heuristic):\")\n",
    "printSolution(bestSol)\n",
    "println()\n",
    "#------------------------------------------------\n",
    "\n",
    "bestSol = multistartLS(params, 1000)\n",
    "println(\"Multistart Local Search solution:\")\n",
    "printSolution(bestSol)\n",
    "println()\n",
    "#------------------------------------------------\n",
    "\n",
    "#cost = sum(A[i,j]*B[p[i],p[j]] for i = 1:n, j = 1:n)\n",
    "#println(\"Cost=$cost\")\n",
    "\n",
    "println(\"----- METAHEURISTIC OPTIMIZATION COMPLETED IN \")\n",
    "\n",
    "# TODO: Print final solution and export results\n",
    "# Printing the solution and exporting statistics (also export results into a file)\n",
    "\n",
    "println(\"----- END OF ALGORITHM\")"
   ]
  },
  {
   "cell_type": "code",
   "execution_count": 32,
   "metadata": {},
   "outputs": [
    {
     "data": {
      "text/plain": [
       "(Solution[Solution(Params(\"../../instances/bur26a.dat\", \"../../outputs/sol-bur26a.dat\", 0, 300, \"bur26a.dat\", 26, [53 66 … 53 53; 66 53 … 53 53; … ; 53 53 … 53 66; 53 53 … 66 53], [47 348 … 7 15; 175 9 … 1 11; … ; 0 1 … 0 0; 37 1 … 1 2]), [12, 10, 3, 19, 4, 6, 14, 11, 7, 5  …  25, 15, 1, 2, 8, 23, 18, 24, 13, 20], 5902280), Solution(Params(\"../../instances/bur26a.dat\", \"../../outputs/sol-bur26a.dat\", 0, 300, \"bur26a.dat\", 26, [53 66 … 53 53; 66 53 … 53 53; … ; 53 53 … 53 66; 53 53 … 66 53], [47 348 … 7 15; 175 9 … 1 11; … ; 0 1 … 0 0; 37 1 … 1 2]), [5, 3, 21, 11, 12, 16, 9, 17, 24, 6  …  4, 22, 13, 10, 25, 20, 7, 23, 26, 8], 5830254), Solution(Params(\"../../instances/bur26a.dat\", \"../../outputs/sol-bur26a.dat\", 0, 300, \"bur26a.dat\", 26, [53 66 … 53 53; 66 53 … 53 53; … ; 53 53 … 53 66; 53 53 … 66 53], [47 348 … 7 15; 175 9 … 1 11; … ; 0 1 … 0 0; 37 1 … 1 2]), [25, 7, 13, 21, 20, 26, 24, 12, 15, 19  …  2, 9, 6, 16, 17, 4, 22, 8, 11, 18], 5724571), Solution(Params(\"../../instances/bur26a.dat\", \"../../outputs/sol-bur26a.dat\", 0, 300, \"bur26a.dat\", 26, [53 66 … 53 53; 66 53 … 53 53; … ; 53 53 … 53 66; 53 53 … 66 53], [47 348 … 7 15; 175 9 … 1 11; … ; 0 1 … 0 0; 37 1 … 1 2]), [19, 18, 25, 26, 10, 13, 4, 22, 17, 23  …  6, 14, 9, 3, 7, 12, 24, 8, 16, 11], 5864870), Solution(Params(\"../../instances/bur26a.dat\", \"../../outputs/sol-bur26a.dat\", 0, 300, \"bur26a.dat\", 26, [53 66 … 53 53; 66 53 … 53 53; … ; 53 53 … 53 66; 53 53 … 66 53], [47 348 … 7 15; 175 9 … 1 11; … ; 0 1 … 0 0; 37 1 … 1 2]), [25, 26, 13, 17, 11, 6, 21, 24, 7, 2  …  14, 16, 20, 15, 9, 8, 18, 12, 1, 3], 6027633)], Solution[])"
      ]
     },
     "execution_count": 32,
     "metadata": {},
     "output_type": "execute_result"
    }
   ],
   "source": [
    "populationSize = 10\n",
    "\n",
    "# Initialize population with random candidate solutions\n",
    "population = initializePopulation(populationSize);\n",
    "\n",
    "# Select parents\n",
    "population = shuffle!(population)\n",
    "parents = [(population[i], population[i+Int(length(population)/2)]) for i = 1:Int(length(population)/2)];\n",
    "\n"
   ]
  },
  {
   "cell_type": "code",
   "execution_count": null,
   "metadata": {},
   "outputs": [],
   "source": []
  },
  {
   "cell_type": "code",
   "execution_count": null,
   "metadata": {},
   "outputs": [],
   "source": []
  },
  {
   "cell_type": "code",
   "execution_count": null,
   "metadata": {},
   "outputs": [],
   "source": []
  },
  {
   "cell_type": "code",
   "execution_count": null,
   "metadata": {},
   "outputs": [],
   "source": []
  },
  {
   "cell_type": "code",
   "execution_count": null,
   "metadata": {},
   "outputs": [],
   "source": [
    "generation = 0\n",
    "# Repeat until Termination condition is satisfied\n",
    "while generation < max_generations\n",
    "    # Select parents\n",
    "    population = shuffle!(population)\n",
    "    parents = (population[1:size(population)/2], population[6:end])\n",
    "\n",
    "    # Recombine pairs of solutions\n",
    "\n",
    "    # Mutate the resulting offspring\n",
    "\n",
    "    # Evaluate new candidates\n",
    "\n",
    "    # Select individuals for the next generation\n",
    "\n",
    "    generation += 1\n",
    "end\n"
   ]
  }
 ],
 "metadata": {
  "kernelspec": {
   "display_name": "Julia 1.1.0",
   "language": "julia",
   "name": "julia-1.1"
  },
  "language_info": {
   "file_extension": ".jl",
   "mimetype": "application/julia",
   "name": "julia",
   "version": "1.1.0"
  }
 },
 "nbformat": 4,
 "nbformat_minor": 2
}
